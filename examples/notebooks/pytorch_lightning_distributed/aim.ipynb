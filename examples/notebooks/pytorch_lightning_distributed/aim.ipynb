{
 "cells": [
  {
   "cell_type": "markdown",
   "id": "0",
   "metadata": {},
   "source": [
    "This example requires the following dependencies to be installed:\n",
    "pip install \"lightly[timm]\""
   ]
  },
  {
   "cell_type": "code",
   "execution_count": null,
   "id": "1",
   "metadata": {},
   "outputs": [],
   "source": [
    "!pip install \"lightly[timm]\""
   ]
  },
  {
   "cell_type": "markdown",
   "id": "2",
   "metadata": {},
   "source": [
    "Note: The model and training settings do not follow the reference settings\n",
    "from the paper. The settings are chosen such that the example can easily be\n",
    "run on a small dataset with a single GPU."
   ]
  },
  {
   "cell_type": "code",
   "execution_count": null,
   "id": "3",
   "metadata": {},
   "outputs": [],
   "source": [
    "import pytorch_lightning as pl\n",
    "import torch\n",
    "import torchvision\n",
    "from torch import nn"
   ]
  },
  {
   "cell_type": "code",
   "execution_count": null,
   "id": "4",
   "metadata": {},
   "outputs": [],
   "source": [
    "from lightly.models import utils\n",
    "from lightly.models.modules import AIMPredictionHead, MaskedCausalVisionTransformer\n",
    "from lightly.transforms import AIMTransform"
   ]
  },
  {
   "cell_type": "code",
   "execution_count": null,
   "id": "5",
   "metadata": {},
   "outputs": [],
   "source": [
    "class AIM(pl.LightningModule):\n",
    "    def __init__(self) -> None:\n",
    "        super().__init__()\n",
    "        vit = MaskedCausalVisionTransformer(\n",
    "            img_size=224,\n",
    "            patch_size=32,\n",
    "            embed_dim=768,\n",
    "            depth=12,\n",
    "            num_heads=12,\n",
    "            qk_norm=False,\n",
    "            class_token=False,\n",
    "            no_embed_class=True,\n",
    "        )\n",
    "        utils.initialize_2d_sine_cosine_positional_embedding(\n",
    "            pos_embedding=vit.pos_embed, has_class_token=vit.has_class_token\n",
    "        )\n",
    "        self.patch_size = vit.patch_embed.patch_size[0]\n",
    "        self.num_patches = vit.patch_embed.num_patches\n",
    "\n",
    "        self.backbone = vit\n",
    "        self.projection_head = AIMPredictionHead(\n",
    "            input_dim=vit.embed_dim, output_dim=3 * self.patch_size**2, num_blocks=1\n",
    "        )\n",
    "\n",
    "        self.criterion = nn.MSELoss()\n",
    "\n",
    "    def training_step(self, batch, batch_idx):\n",
    "        views, targets = batch[0], batch[1]\n",
    "        images = views[0]  # AIM has only a single view\n",
    "        batch_size = images.shape[0]\n",
    "\n",
    "        mask = utils.random_prefix_mask(\n",
    "            size=(batch_size, self.num_patches),\n",
    "            max_prefix_length=self.num_patches - 1,\n",
    "            device=images.device,\n",
    "        )\n",
    "        features = self.backbone.forward_features(images, mask=mask)\n",
    "        # Add positional embedding before head.\n",
    "        features = self.backbone._pos_embed(features)\n",
    "        predictions = self.projection_head(features)\n",
    "\n",
    "        # Convert images to patches and normalize them.\n",
    "        patches = utils.patchify(images, self.patch_size)\n",
    "        patches = utils.normalize_mean_var(patches, dim=-1)\n",
    "\n",
    "        loss = self.criterion(predictions, patches)\n",
    "        return loss\n",
    "\n",
    "    def configure_optimizers(self):\n",
    "        optim = torch.optim.AdamW(self.parameters(), lr=1.5e-4)\n",
    "        return optim"
   ]
  },
  {
   "cell_type": "code",
   "execution_count": null,
   "id": "6",
   "metadata": {},
   "outputs": [],
   "source": [
    "model = AIM()"
   ]
  },
  {
   "cell_type": "code",
   "execution_count": null,
   "id": "7",
   "metadata": {},
   "outputs": [],
   "source": [
    "transform = AIMTransform()\n",
    "# we ignore object detection annotations by setting target_transform to return 0\n",
    "dataset = torchvision.datasets.VOCDetection(\n",
    "    \"datasets/pascal_voc\",\n",
    "    download=True,\n",
    "    transform=transform,\n",
    "    target_transform=lambda t: 0,\n",
    ")\n",
    "# or create a dataset from a folder containing images or videos:\n",
    "# dataset = LightlyDataset(\"path/to/folder\")"
   ]
  },
  {
   "cell_type": "code",
   "execution_count": null,
   "id": "8",
   "metadata": {},
   "outputs": [],
   "source": [
    "dataloader = torch.utils.data.DataLoader(\n",
    "    dataset,\n",
    "    batch_size=256,\n",
    "    shuffle=True,\n",
    "    drop_last=True,\n",
    "    num_workers=8,\n",
    ")"
   ]
  },
  {
   "cell_type": "code",
   "execution_count": null,
   "id": "9",
   "metadata": {},
   "outputs": [],
   "source": [
    "accelerator = \"gpu\" if torch.cuda.is_available() else \"cpu\""
   ]
  },
  {
   "cell_type": "code",
   "execution_count": null,
   "id": "10",
   "metadata": {},
   "outputs": [],
   "source": [
    "# Train with DDP on multiple gpus. Distributed sampling is also enabled with\n",
    "# replace_sampler_ddp=True.\n",
    "trainer = pl.Trainer(\n",
    "    max_epochs=10,\n",
    "    devices=\"auto\",\n",
    "    accelerator=\"gpu\",\n",
    "    strategy=\"ddp\",\n",
    "    use_distributed_sampler=True,  # or replace_sampler_ddp=True for PyTorch Lightning <2.0\n",
    ")\n",
    "trainer.fit(model=model, train_dataloaders=dataloader)"
   ]
  }
 ],
 "metadata": {
  "jupytext": {
   "cell_metadata_filter": "-all",
   "main_language": "python",
   "notebook_metadata_filter": "-all"
  }
 },
 "nbformat": 4,
 "nbformat_minor": 5
}
