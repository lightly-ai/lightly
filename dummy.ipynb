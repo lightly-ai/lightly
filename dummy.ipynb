{
 "cells": [
  {
   "cell_type": "code",
   "execution_count": 1,
   "metadata": {},
   "outputs": [
    {
     "name": "stderr",
     "output_type": "stream",
     "text": [
      "/Users/lionelpeer/Documents/github/lightly/.py312/lib/python3.12/site-packages/torchvision/transforms/v2/_deprecated.py:42: UserWarning: The transform `ToTensor()` is deprecated and will be removed in a future release. Instead, please use `v2.Compose([v2.ToImage(), v2.ToDtype(torch.float32, scale=True)])`.Output is equivalent up to float precision.\n",
      "  warnings.warn(\n"
     ]
    }
   ],
   "source": [
    "from torchvision.transforms.v2 import RandomGrayscale\n",
    "from torchvision.tv_tensors import BoundingBoxes, Mask, Image\n",
    "import torch\n",
    "import matplotlib.pyplot as plt\n",
    "from torchvision.utils import draw_bounding_boxes, draw_segmentation_masks\n",
    "from lightly.transforms.detcon_transform import DetConSimCLRViewTransform\n",
    "from torchvision import tv_tensors\n",
    "import torchvision.transforms.v2 as T"
   ]
  },
  {
   "cell_type": "code",
   "execution_count": 2,
   "metadata": {},
   "outputs": [],
   "source": [
    "torch.manual_seed(30)\n",
    "\n",
    "img = Image(torch.randn(3, 256, 256))\n",
    "mask = Mask(torch.arange(0, 256*256, 1).view(1, 256, 256), dtype=torch.int64)\n",
    "bbox = BoundingBoxes(torch.tensor([[25, 25, 50, 50]]), format=\"XYXY\", canvas_size=(256, 256))"
   ]
  },
  {
   "cell_type": "code",
   "execution_count": 3,
   "metadata": {},
   "outputs": [],
   "source": [
    "transform = T.RandomApply([T.GaussianBlur(kernel_size=3, sigma=(0.3, 0.3))], p=1.0)"
   ]
  },
  {
   "cell_type": "code",
   "execution_count": 5,
   "metadata": {},
   "outputs": [
    {
     "name": "stdout",
     "output_type": "stream",
     "text": [
      "<class 'torchvision.tv_tensors._image.Image'> <class 'torchvision.tv_tensors._mask.Mask'> <class 'torchvision.tv_tensors._bounding_boxes.BoundingBoxes'>\n",
      "torch.Size([3, 256, 256]) torch.Size([1, 256, 256]) torch.Size([1, 4])\n"
     ]
    }
   ],
   "source": [
    "img_tr, mask_tr, bbox_tr = transform(img, mask, bbox)\n",
    "print(type(img_tr), type(mask_tr), type(bbox_tr))\n",
    "print(img_tr.shape, mask_tr.shape, bbox_tr.shape)"
   ]
  },
  {
   "cell_type": "code",
   "execution_count": null,
   "metadata": {},
   "outputs": [],
   "source": []
  }
 ],
 "metadata": {
  "kernelspec": {
   "display_name": ".py312",
   "language": "python",
   "name": "python3"
  },
  "language_info": {
   "codemirror_mode": {
    "name": "ipython",
    "version": 3
   },
   "file_extension": ".py",
   "mimetype": "text/x-python",
   "name": "python",
   "nbconvert_exporter": "python",
   "pygments_lexer": "ipython3",
   "version": "3.12.7"
  }
 },
 "nbformat": 4,
 "nbformat_minor": 2
}
